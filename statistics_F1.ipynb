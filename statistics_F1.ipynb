{
 "cells": [
  {
   "cell_type": "code",
   "execution_count": 2,
   "id": "cf0c67d0-4d93-43ad-a5ee-1b58eecee721",
   "metadata": {},
   "outputs": [],
   "source": [
    "import fastf1\n",
    "from fastf1 import plotting\n",
    "from matplotlib import pyplot as plt\n",
    "import pandas as pd\n",
    "from scipy.stats import binom\n",
    "import numpy as np"
   ]
  },
  {
   "cell_type": "code",
   "execution_count": 3,
   "id": "05542e61",
   "metadata": {},
   "outputs": [
    {
     "name": "stderr",
     "output_type": "stream",
     "text": [
      "api         WARNING \t\n",
      "\n",
      "NO CACHE! Api caching has not been enabled! \n",
      "\tIt is highly recommended to enable this feature for much faster data loading!\n",
      "\tUse `fastf1.Cache.enable_cache('path/to/cache/')`\n",
      "\n",
      "core           INFO \tLoading data for Bahrain Grand Prix - Race [v2.3.2]\n",
      "api            INFO \tFetching driver list...\n",
      "api            INFO \tFetching timing data...\n",
      "api            INFO \tParsing timing data...\n",
      "api            INFO \tFetching timing app data...\n",
      "core           INFO \tProcessing timing data...\n",
      "api            INFO \tFetching session status data...\n",
      "api            INFO \tFetching track status data...\n",
      "/usr/local/lib/python3.11/site-packages/fastf1/core.py:1415: FutureWarning: In a future version, object-dtype columns with all-bool values will not be included in reductions with bool_only=True. Explicitly cast to bool dtype instead.\n",
      "  df = pd.concat([df, result], sort=False)\n",
      "/usr/local/lib/python3.11/site-packages/fastf1/core.py:1415: FutureWarning: In a future version, object-dtype columns with all-bool values will not be included in reductions with bool_only=True. Explicitly cast to bool dtype instead.\n",
      "  df = pd.concat([df, result], sort=False)\n",
      "/usr/local/lib/python3.11/site-packages/fastf1/core.py:1415: FutureWarning: In a future version, object-dtype columns with all-bool values will not be included in reductions with bool_only=True. Explicitly cast to bool dtype instead.\n",
      "  df = pd.concat([df, result], sort=False)\n",
      "/usr/local/lib/python3.11/site-packages/fastf1/core.py:1415: FutureWarning: In a future version, object-dtype columns with all-bool values will not be included in reductions with bool_only=True. Explicitly cast to bool dtype instead.\n",
      "  df = pd.concat([df, result], sort=False)\n",
      "/usr/local/lib/python3.11/site-packages/fastf1/core.py:1415: FutureWarning: In a future version, object-dtype columns with all-bool values will not be included in reductions with bool_only=True. Explicitly cast to bool dtype instead.\n",
      "  df = pd.concat([df, result], sort=False)\n",
      "/usr/local/lib/python3.11/site-packages/fastf1/core.py:1415: FutureWarning: In a future version, object-dtype columns with all-bool values will not be included in reductions with bool_only=True. Explicitly cast to bool dtype instead.\n",
      "  df = pd.concat([df, result], sort=False)\n",
      "/usr/local/lib/python3.11/site-packages/fastf1/core.py:1415: FutureWarning: In a future version, object-dtype columns with all-bool values will not be included in reductions with bool_only=True. Explicitly cast to bool dtype instead.\n",
      "  df = pd.concat([df, result], sort=False)\n",
      "/usr/local/lib/python3.11/site-packages/fastf1/core.py:1415: FutureWarning: In a future version, object-dtype columns with all-bool values will not be included in reductions with bool_only=True. Explicitly cast to bool dtype instead.\n",
      "  df = pd.concat([df, result], sort=False)\n",
      "/usr/local/lib/python3.11/site-packages/fastf1/core.py:1415: FutureWarning: In a future version, object-dtype columns with all-bool values will not be included in reductions with bool_only=True. Explicitly cast to bool dtype instead.\n",
      "  df = pd.concat([df, result], sort=False)\n",
      "/usr/local/lib/python3.11/site-packages/fastf1/core.py:1415: FutureWarning: In a future version, object-dtype columns with all-bool values will not be included in reductions with bool_only=True. Explicitly cast to bool dtype instead.\n",
      "  df = pd.concat([df, result], sort=False)\n",
      "/usr/local/lib/python3.11/site-packages/fastf1/core.py:1415: FutureWarning: In a future version, object-dtype columns with all-bool values will not be included in reductions with bool_only=True. Explicitly cast to bool dtype instead.\n",
      "  df = pd.concat([df, result], sort=False)\n",
      "/usr/local/lib/python3.11/site-packages/fastf1/core.py:1415: FutureWarning: In a future version, object-dtype columns with all-bool values will not be included in reductions with bool_only=True. Explicitly cast to bool dtype instead.\n",
      "  df = pd.concat([df, result], sort=False)\n",
      "/usr/local/lib/python3.11/site-packages/fastf1/core.py:1415: FutureWarning: In a future version, object-dtype columns with all-bool values will not be included in reductions with bool_only=True. Explicitly cast to bool dtype instead.\n",
      "  df = pd.concat([df, result], sort=False)\n",
      "/usr/local/lib/python3.11/site-packages/fastf1/core.py:1415: FutureWarning: In a future version, object-dtype columns with all-bool values will not be included in reductions with bool_only=True. Explicitly cast to bool dtype instead.\n",
      "  df = pd.concat([df, result], sort=False)\n",
      "/usr/local/lib/python3.11/site-packages/fastf1/core.py:1415: FutureWarning: In a future version, object-dtype columns with all-bool values will not be included in reductions with bool_only=True. Explicitly cast to bool dtype instead.\n",
      "  df = pd.concat([df, result], sort=False)\n",
      "/usr/local/lib/python3.11/site-packages/fastf1/core.py:1415: FutureWarning: In a future version, object-dtype columns with all-bool values will not be included in reductions with bool_only=True. Explicitly cast to bool dtype instead.\n",
      "  df = pd.concat([df, result], sort=False)\n",
      "/usr/local/lib/python3.11/site-packages/fastf1/core.py:1415: FutureWarning: In a future version, object-dtype columns with all-bool values will not be included in reductions with bool_only=True. Explicitly cast to bool dtype instead.\n",
      "  df = pd.concat([df, result], sort=False)\n",
      "/usr/local/lib/python3.11/site-packages/fastf1/core.py:1415: FutureWarning: In a future version, object-dtype columns with all-bool values will not be included in reductions with bool_only=True. Explicitly cast to bool dtype instead.\n",
      "  df = pd.concat([df, result], sort=False)\n",
      "/usr/local/lib/python3.11/site-packages/fastf1/core.py:1415: FutureWarning: In a future version, object-dtype columns with all-bool values will not be included in reductions with bool_only=True. Explicitly cast to bool dtype instead.\n",
      "  df = pd.concat([df, result], sort=False)\n",
      "api            INFO \tFetching car data...\n",
      "api            INFO \tParsing car data...\n",
      "api            INFO \tFetching position data...\n",
      "api            INFO \tParsing position data...\n",
      "api            INFO \tFetching weather data...\n",
      "api            INFO \tFetching race control messages...\n",
      "core           INFO \tFinished loading data for 20 drivers: ['44', '77', '16', '33', '5', '4', '7', '10', '23', '11', '99', '26', '20', '18', '63', '88', '27', '3', '55', '8']\n"
     ]
    }
   ],
   "source": [
    "session = fastf1.get_session(2019, 'Bahrain', 'R')\n",
    "session.load()"
   ]
  },
  {
   "cell_type": "code",
   "execution_count": 4,
   "id": "13946b2a",
   "metadata": {},
   "outputs": [
    {
     "name": "stderr",
     "output_type": "stream",
     "text": [
      "/usr/local/lib/python3.11/site-packages/fastf1/core.py:2328: FutureWarning: The default dtype for empty Series will be 'object' instead of 'float64' in a future version. Specify a dtype explicitly to silence this warning.\n",
      "  super().__init__(*args, **kwargs)\n"
     ]
    }
   ],
   "source": [
    "best_bottas = session.laps.pick_driver('MAX').pick_fastest()"
   ]
  },
  {
   "cell_type": "code",
   "execution_count": 7,
   "id": "fd785640",
   "metadata": {},
   "outputs": [],
   "source": [
    "session_max_verstappen = session.laps.pick_driver('MAX')"
   ]
  },
  {
   "cell_type": "code",
   "execution_count": 8,
   "id": "4005123d",
   "metadata": {},
   "outputs": [],
   "source": [
    "session.laps.to_csv('./2019_Bahrain_Race.csv')"
   ]
  },
  {
   "attachments": {},
   "cell_type": "markdown",
   "id": "d7355602",
   "metadata": {},
   "source": [
    "# Question 1"
   ]
  },
  {
   "cell_type": "code",
   "execution_count": 95,
   "id": "837153aa",
   "metadata": {},
   "outputs": [
    {
     "data": {
      "text/plain": [
       "Text(0.5, 1.0, 'Lap times of Max Verstappen in Bahrain 2019 (Histogram)')"
      ]
     },
     "execution_count": 95,
     "metadata": {},
     "output_type": "execute_result"
    },
    {
     "data": {
      "image/png": "[encoded data removed]",
      "text/plain": [
       "<Figure size 640x480 with 1 Axes>"
      ]
     },
     "metadata": {},
     "output_type": "display_data"
    }
   ],
   "source": [
    "# check if we have a normal distribution of lap times\n",
    "plt.hist(session_max_verstappen['LapTime'].dt.total_seconds(), edgecolor='black', bins=20)\n",
    "plt.xlabel('Lap time in seconds')\n",
    "plt.ylabel('Lap count')\n",
    "plt.title('Lap times of Max Verstappen in Bahrain 2019 (Histogram)')"
   ]
  },
  {
   "attachments": {},
   "cell_type": "markdown",
   "id": "20856499",
   "metadata": {},
   "source": [
    "This is not anormal distribution. Therefore the strategy of using one or more standard deviations to determine a 'fast' lap time wont work."
   ]
  },
  {
   "attachments": {},
   "cell_type": "markdown",
   "id": "b21446be",
   "metadata": {},
   "source": [
    "Next we try to get a more detailed picture of the data by determining the min, mean, std and median lap times"
   ]
  },
  {
   "cell_type": "code",
   "execution_count": 80,
   "id": "c7732e7c",
   "metadata": {},
   "outputs": [
    {
     "data": {
      "text/plain": [
       "95.311"
      ]
     },
     "execution_count": 80,
     "metadata": {},
     "output_type": "execute_result"
    }
   ],
   "source": [
    "session_max_verstappen['LapTime'].min().total_seconds()"
   ]
  },
  {
   "cell_type": "code",
   "execution_count": 56,
   "id": "5753a95a",
   "metadata": {},
   "outputs": [
    {
     "data": {
      "text/plain": [
       "99.402375"
      ]
     },
     "execution_count": 56,
     "metadata": {},
     "output_type": "execute_result"
    }
   ],
   "source": [
    "# average lap time\n",
    "session_max_verstappen['LapTime'].mean().total_seconds()"
   ]
  },
  {
   "cell_type": "code",
   "execution_count": 58,
   "id": "76984da4",
   "metadata": {},
   "outputs": [
    {
     "data": {
      "text/plain": [
       "7.935867"
      ]
     },
     "execution_count": 58,
     "metadata": {},
     "output_type": "execute_result"
    }
   ],
   "source": [
    "# determine the standard deviation\n",
    "session_max_verstappen['LapTime'].std().total_seconds()"
   ]
  },
  {
   "cell_type": "code",
   "execution_count": 96,
   "id": "fd8c4cca",
   "metadata": {},
   "outputs": [
    {
     "data": {
      "text/plain": [
       "96.9905"
      ]
     },
     "execution_count": 96,
     "metadata": {},
     "output_type": "execute_result"
    }
   ],
   "source": [
    "# see if the median can get close to the mean\n",
    "session_max_verstappen['LapTime'].median().total_seconds()"
   ]
  },
  {
   "attachments": {},
   "cell_type": "markdown",
   "id": "8897f3cf",
   "metadata": {},
   "source": [
    "We choos anything faster than the mean lap time to be 'fast'."
   ]
  },
  {
   "cell_type": "code",
   "execution_count": 171,
   "id": "b7745668",
   "metadata": {},
   "outputs": [
    {
     "name": "stdout",
     "output_type": "stream",
     "text": [
      "fast laps 49\n"
     ]
    }
   ],
   "source": [
    "fast_lap_time = session_max_verstappen['LapTime'].mean().total_seconds()\n",
    "fast_laps = session_max_verstappen['LapTime'][session_max_verstappen['LapTime'] < pd.Timedelta(fast_lap_time, 's')]\n",
    "fast_laps_soft = session_max_verstappen['LapTime'][(session_max_verstappen['LapTime'] < pd.Timedelta(fast_lap_time, 's')) & (session_max_verstappen['Compound'] == 'SOFT')]\n",
    "laps_soft = session_max_verstappen[(session_max_verstappen['Compound'] == 'SOFT')]\n",
    "print('fast laps', fast_laps.count())"
   ]
  },
  {
   "cell_type": "code",
   "execution_count": 172,
   "id": "d5b404f4",
   "metadata": {},
   "outputs": [
    {
     "data": {
      "text/plain": [
       "0.8181818181818182"
      ]
     },
     "execution_count": 172,
     "metadata": {},
     "output_type": "execute_result"
    }
   ],
   "source": [
    "p_soft_is_fast = len(fast_laps_soft)/len(laps_soft)\n",
    "p_soft_is_fast"
   ]
  },
  {
   "attachments": {},
   "cell_type": "markdown",
   "id": "d226c754",
   "metadata": {},
   "source": [
    "# Question 2"
   ]
  },
  {
   "cell_type": "code",
   "execution_count": 14,
   "id": "f755b7ff",
   "metadata": {},
   "outputs": [
    {
     "name": "stderr",
     "output_type": "stream",
     "text": [
      "/var/folders/zw/nhh2j6mn1b582ymy17q7nq2m0000gn/T/ipykernel_80830/1445143992.py:2: FutureWarning: DataFrame.mean and DataFrame.median with numeric_only=None will include datetime64 and datetime64tz columns in a future version.\n",
      "  laps_soft.mean()['LapTime']\n",
      "/var/folders/zw/nhh2j6mn1b582ymy17q7nq2m0000gn/T/ipykernel_80830/1445143992.py:2: FutureWarning: The default value of numeric_only in Laps.mean is deprecated. In a future version, it will default to False. In addition, specifying 'numeric_only=None' is deprecated. Select only valid columns or specify the value of numeric_only to silence this warning.\n",
      "  laps_soft.mean()['LapTime']\n"
     ]
    },
    {
     "data": {
      "text/plain": [
       "Timedelta('0 days 00:01:38.212700')"
      ]
     },
     "execution_count": 14,
     "metadata": {},
     "output_type": "execute_result"
    }
   ],
   "source": [
    "# mean and variance of soft, medium and hard tyres\n",
    "laps_soft.mean()['LapTime']"
   ]
  },
  {
   "cell_type": "code",
   "execution_count": 15,
   "id": "7dcef201",
   "metadata": {},
   "outputs": [
    {
     "name": "stderr",
     "output_type": "stream",
     "text": [
      "/var/folders/zw/nhh2j6mn1b582ymy17q7nq2m0000gn/T/ipykernel_80830/1570903620.py:1: SettingWithCopyWarning: \n",
      "A value is trying to be set on a copy of a slice from a DataFrame.\n",
      "Try using .loc[row_indexer,col_indexer] = value instead\n",
      "\n",
      "See the caveats in the documentation: https://pandas.pydata.org/pandas-docs/stable/user_guide/indexing.html#returning-a-view-versus-a-copy\n",
      "  laps_soft['LapTimeSeconds'] = laps_soft['LapTime'].dt.total_seconds()\n",
      "/var/folders/zw/nhh2j6mn1b582ymy17q7nq2m0000gn/T/ipykernel_80830/1570903620.py:2: FutureWarning: The default value of numeric_only in Laps.var is deprecated. In a future version, it will default to False. In addition, specifying 'numeric_only=None' is deprecated. Select only valid columns or specify the value of numeric_only to silence this warning.\n",
      "  laps_soft.var()['LapTimeSeconds']\n"
     ]
    },
    {
     "data": {
      "text/plain": [
       "0.9828695666666635"
      ]
     },
     "execution_count": 15,
     "metadata": {},
     "output_type": "execute_result"
    }
   ],
   "source": [
    "laps_soft['LapTimeSeconds'] = laps_soft['LapTime'].dt.total_seconds()\n",
    "laps_soft.var()['LapTimeSeconds']"
   ]
  },
  {
   "cell_type": "code",
   "execution_count": 16,
   "id": "61465a17",
   "metadata": {},
   "outputs": [
    {
     "name": "stderr",
     "output_type": "stream",
     "text": [
      "/var/folders/zw/nhh2j6mn1b582ymy17q7nq2m0000gn/T/ipykernel_80830/2565777270.py:2: FutureWarning: DataFrame.mean and DataFrame.median with numeric_only=None will include datetime64 and datetime64tz columns in a future version.\n",
      "  laps_medium.mean()['LapTime']\n",
      "/var/folders/zw/nhh2j6mn1b582ymy17q7nq2m0000gn/T/ipykernel_80830/2565777270.py:2: FutureWarning: The default value of numeric_only in Laps.mean is deprecated. In a future version, it will default to False. In addition, specifying 'numeric_only=None' is deprecated. Select only valid columns or specify the value of numeric_only to silence this warning.\n",
      "  laps_medium.mean()['LapTime']\n"
     ]
    },
    {
     "data": {
      "text/plain": [
       "Timedelta('0 days 00:01:39.661000')"
      ]
     },
     "execution_count": 16,
     "metadata": {},
     "output_type": "execute_result"
    }
   ],
   "source": [
    "laps_medium = session_max_verstappen[(session_max_verstappen['Compound'] == 'MEDIUM')]\n",
    "laps_medium.mean()['LapTime']"
   ]
  },
  {
   "cell_type": "code",
   "execution_count": 17,
   "id": "27227cfa",
   "metadata": {},
   "outputs": [
    {
     "name": "stderr",
     "output_type": "stream",
     "text": [
      "/var/folders/zw/nhh2j6mn1b582ymy17q7nq2m0000gn/T/ipykernel_80830/4248653452.py:1: SettingWithCopyWarning: \n",
      "A value is trying to be set on a copy of a slice from a DataFrame.\n",
      "Try using .loc[row_indexer,col_indexer] = value instead\n",
      "\n",
      "See the caveats in the documentation: https://pandas.pydata.org/pandas-docs/stable/user_guide/indexing.html#returning-a-view-versus-a-copy\n",
      "  laps_medium['LapTimeSeconds'] = laps_medium['LapTime'].dt.total_seconds()\n",
      "/var/folders/zw/nhh2j6mn1b582ymy17q7nq2m0000gn/T/ipykernel_80830/4248653452.py:2: FutureWarning: The default value of numeric_only in Laps.var is deprecated. In a future version, it will default to False. In addition, specifying 'numeric_only=None' is deprecated. Select only valid columns or specify the value of numeric_only to silence this warning.\n",
      "  laps_medium.var()['LapTimeSeconds']\n"
     ]
    },
    {
     "data": {
      "text/plain": [
       "76.39363879999998"
      ]
     },
     "execution_count": 17,
     "metadata": {},
     "output_type": "execute_result"
    }
   ],
   "source": [
    "laps_medium['LapTimeSeconds'] = laps_medium['LapTime'].dt.total_seconds()\n",
    "laps_medium.var()['LapTimeSeconds']"
   ]
  },
  {
   "attachments": {},
   "cell_type": "markdown",
   "id": "7f3995fb",
   "metadata": {},
   "source": [
    "# Question 3"
   ]
  },
  {
   "cell_type": "code",
   "execution_count": 43,
   "id": "92594515",
   "metadata": {},
   "outputs": [
    {
     "name": "stdout",
     "output_type": "stream",
     "text": [
      "mean_tire_life 11.491228070175438\n",
      "mean_lap_time 0 days 00:01:39.402375\n"
     ]
    }
   ],
   "source": [
    "# Calculate mean lap time\n",
    "mean_lap_time = session_max_verstappen['LapTime'].mean()\n",
    "\n",
    "# Calculate mean tire life\n",
    "mean_tire_life = session_max_verstappen['TyreLife'].mean()\n",
    "print('mean_tire_life', mean_tire_life)\n",
    "print('mean_lap_time', mean_lap_time)"
   ]
  },
  {
   "cell_type": "code",
   "execution_count": 44,
   "id": "464002b9",
   "metadata": {},
   "outputs": [
    {
     "name": "stdout",
     "output_type": "stream",
     "text": [
      "cov 13.859143181818181\n",
      "corr_coeff 0.27189857855295785\n"
     ]
    }
   ],
   "source": [
    "cov_numerator = 0\n",
    "for lap_count, lap in session_max_verstappen.iterrows():\n",
    "    if pd.Timedelta(1, 's') < lap['LapTime'] < pd.Timedelta(1000, 's'):  # required check to skip laps without lap times\n",
    "        cov_numerator += pd.Timedelta((lap['LapTime'] - mean_lap_time)).total_seconds() * (lap['TyreLife'] - mean_tire_life)\n",
    "\n",
    "cov = cov_numerator / (session_max_verstappen['LapTime'].count() - 1)\n",
    "\n",
    "# Calculate the standard deviations\n",
    "std_dev_lap_time = session_max_verstappen['LapTime'].std()\n",
    "std_dev_tire_life_in_seconds = (session_max_verstappen['TyreLife'] * session_max_verstappen['LapTime']).std()\n",
    "\n",
    "# Calculate the correlation coefficient\n",
    "corr_coeff = cov / (session_max_verstappen['LapTime'].std().total_seconds() * session_max_verstappen['TyreLife'].std())\n",
    "print('cov', cov)\n",
    "print('corr_coeff', corr_coeff)"
   ]
  },
  {
   "cell_type": "code",
   "execution_count": 31,
   "id": "f2f7ea6e",
   "metadata": {},
   "outputs": [
    {
     "data": {
      "text/plain": [
       "0.27285421917460057"
      ]
     },
     "execution_count": 31,
     "metadata": {},
     "output_type": "execute_result"
    }
   ],
   "source": [
    "# This can be verified with the pandas corr() function\n",
    "session_max_verstappen['TyreLife'].corr(session_max_verstappen['LapTime'].dt.total_seconds())"
   ]
  },
  {
   "attachments": {},
   "cell_type": "markdown",
   "id": "1f9a8f34",
   "metadata": {},
   "source": [
    "# Question 4"
   ]
  },
  {
   "cell_type": "code",
   "execution_count": null,
   "id": "2f435006",
   "metadata": {},
   "outputs": [
    {
     "data": {
      "text/html": [
       "<div>\n",
       "<style scoped>\n",
       "    .dataframe tbody tr th:only-of-type {\n",
       "        vertical-align: middle;\n",
       "    }\n",
       "\n",
       "    .dataframe tbody tr th {\n",
       "        vertical-align: top;\n",
       "    }\n",
       "\n",
       "    .dataframe thead th {\n",
       "        text-align: right;\n",
       "    }\n",
       "</style>\n",
       "<table border=\"1\" class=\"dataframe\">\n",
       "  <thead>\n",
       "    <tr style=\"text-align: right;\">\n",
       "      <th></th>\n",
       "      <th>Time</th>\n",
       "      <th>DriverNumber</th>\n",
       "      <th>LapTime</th>\n",
       "      <th>LapNumber</th>\n",
       "      <th>PitOutTime</th>\n",
       "      <th>PitInTime</th>\n",
       "      <th>Sector1Time</th>\n",
       "      <th>Sector2Time</th>\n",
       "      <th>Sector3Time</th>\n",
       "      <th>Sector1SessionTime</th>\n",
       "      <th>...</th>\n",
       "      <th>Compound</th>\n",
       "      <th>TyreLife</th>\n",
       "      <th>FreshTyre</th>\n",
       "      <th>Stint</th>\n",
       "      <th>LapStartTime</th>\n",
       "      <th>Team</th>\n",
       "      <th>Driver</th>\n",
       "      <th>TrackStatus</th>\n",
       "      <th>IsAccurate</th>\n",
       "      <th>LapStartDate</th>\n",
       "    </tr>\n",
       "  </thead>\n",
       "  <tbody>\n",
       "    <tr>\n",
       "      <th>181</th>\n",
       "      <td>0 days 00:51:34.907000</td>\n",
       "      <td>33</td>\n",
       "      <td>0 days 00:01:40.633000</td>\n",
       "      <td>11</td>\n",
       "      <td>NaT</td>\n",
       "      <td>0 days 00:51:33.169000</td>\n",
       "      <td>0 days 00:00:30.906000</td>\n",
       "      <td>0 days 00:00:43.032000</td>\n",
       "      <td>0 days 00:00:26.695000</td>\n",
       "      <td>0 days 00:50:25.180000</td>\n",
       "      <td>...</td>\n",
       "      <td>SOFT</td>\n",
       "      <td>14.0</td>\n",
       "      <td>False</td>\n",
       "      <td>1</td>\n",
       "      <td>0 days 00:49:54.274000</td>\n",
       "      <td>Red Bull Racing</td>\n",
       "      <td>VER</td>\n",
       "      <td>1</td>\n",
       "      <td>False</td>\n",
       "      <td>2019-03-31 15:29:54.359</td>\n",
       "    </tr>\n",
       "    <tr>\n",
       "      <th>202</th>\n",
       "      <td>0 days 01:26:01.257000</td>\n",
       "      <td>33</td>\n",
       "      <td>0 days 00:01:41.540000</td>\n",
       "      <td>32</td>\n",
       "      <td>NaT</td>\n",
       "      <td>0 days 01:25:59.566000</td>\n",
       "      <td>0 days 00:00:31.532000</td>\n",
       "      <td>0 days 00:00:43.389000</td>\n",
       "      <td>0 days 00:00:26.619000</td>\n",
       "      <td>0 days 01:24:51.249000</td>\n",
       "      <td>...</td>\n",
       "      <td>MEDIUM</td>\n",
       "      <td>21.0</td>\n",
       "      <td>True</td>\n",
       "      <td>2</td>\n",
       "      <td>0 days 01:24:19.717000</td>\n",
       "      <td>Red Bull Racing</td>\n",
       "      <td>VER</td>\n",
       "      <td>1</td>\n",
       "      <td>False</td>\n",
       "      <td>2019-03-31 16:04:19.802</td>\n",
       "    </tr>\n",
       "  </tbody>\n",
       "</table>\n",
       "<p>2 rows × 27 columns</p>\n",
       "</div>"
      ],
      "text/plain": [
       "                      Time DriverNumber                LapTime  LapNumber  \\\n",
       "181 0 days 00:51:34.907000           33 0 days 00:01:40.633000         11   \n",
       "202 0 days 01:26:01.257000           33 0 days 00:01:41.540000         32   \n",
       "\n",
       "    PitOutTime              PitInTime            Sector1Time  \\\n",
       "181        NaT 0 days 00:51:33.169000 0 days 00:00:30.906000   \n",
       "202        NaT 0 days 01:25:59.566000 0 days 00:00:31.532000   \n",
       "\n",
       "               Sector2Time            Sector3Time     Sector1SessionTime  ...  \\\n",
       "181 0 days 00:00:43.032000 0 days 00:00:26.695000 0 days 00:50:25.180000  ...   \n",
       "202 0 days 00:00:43.389000 0 days 00:00:26.619000 0 days 01:24:51.249000  ...   \n",
       "\n",
       "    Compound TyreLife  FreshTyre  Stint           LapStartTime  \\\n",
       "181     SOFT     14.0      False      1 0 days 00:49:54.274000   \n",
       "202   MEDIUM     21.0       True      2 0 days 01:24:19.717000   \n",
       "\n",
       "                Team  Driver TrackStatus  IsAccurate            LapStartDate  \n",
       "181  Red Bull Racing     VER           1       False 2019-03-31 15:29:54.359  \n",
       "202  Red Bull Racing     VER           1       False 2019-03-31 16:04:19.802  \n",
       "\n",
       "[2 rows x 27 columns]"
      ]
     },
     "execution_count": 8,
     "metadata": {},
     "output_type": "execute_result"
    }
   ],
   "source": [
    "# these are our two tire changes of the race\n",
    "session_max_verstappen[session_max_verstappen['PitInTime'].isnull() != True]"
   ]
  },
  {
   "cell_type": "code",
   "execution_count": null,
   "id": "e451e64f",
   "metadata": {},
   "outputs": [
    {
     "data": {
      "text/plain": [
       "0.000685629958001216"
      ]
     },
     "execution_count": 14,
     "metadata": {},
     "output_type": "execute_result"
    }
   ],
   "source": [
    "# now calculate the rate of tire change\n",
    "# we have 2 tire changes in 53 laps\n",
    "# so the rate is 2/53\n",
    "lamb = 2/53\n",
    "def poisson(k, lamb):\n",
    "    return (lamb**k * np.exp(-lamb)) / np.math.factorial(k)\n",
    "\n",
    "poisson(2, lamb)"
   ]
  }
 ],
 "metadata": {
  "kernelspec": {
   "display_name": "Python 3 (ipykernel)",
   "language": "python",
   "name": "python3"
  },
  "language_info": {
   "codemirror_mode": {
    "name": "ipython",
    "version": 3
   },
   "file_extension": ".py",
   "mimetype": "text/x-python",
   "name": "python",
   "nbconvert_exporter": "python",
   "pygments_lexer": "ipython3",
   "version": "3.11.1"
  }
 },
 "nbformat": 4,
 "nbformat_minor": 5
}
